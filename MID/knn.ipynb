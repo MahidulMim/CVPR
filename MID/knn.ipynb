{
  "nbformat": 4,
  "nbformat_minor": 0,
  "metadata": {
    "colab": {
      "provenance": []
    },
    "kernelspec": {
      "name": "python3",
      "display_name": "Python 3"
    },
    "language_info": {
      "name": "python"
    }
  },
  "cells": [
    {
      "cell_type": "code",
      "execution_count": 1,
      "metadata": {
        "id": "hr9FNBUC_l0j"
      },
      "outputs": [],
      "source": [
        "import os\n",
        "import random\n",
        "import numpy as np\n",
        "import cv2\n",
        "from tqdm import tqdm\n",
        "from matplotlib import pyplot as plt"
      ]
    },
    {
      "cell_type": "markdown",
      "source": [
        "# Dataset Directory"
      ],
      "metadata": {
        "id": "GDoJpuFNB3oG"
      }
    },
    {
      "cell_type": "code",
      "source": [
        "DATA_DIR = \"/content/drive/MyDrive/Colab Notebooks/Animals\"\n",
        ""
      ],
      "metadata": {
        "id": "mn9vDtc_B7WH"
      },
      "execution_count": 2,
      "outputs": []
    },
    {
      "cell_type": "markdown",
      "source": [
        "# Function to fetch categories"
      ],
      "metadata": {
        "id": "ALkHGcCuCnPf"
      }
    },
    {
      "cell_type": "code",
      "source": [
        "def fetch_labels(data_path):\n",
        "    \"\"\"Fetch class labels from the dataset directory.\"\"\"\n",
        "    return os.listdir(data_path)"
      ],
      "metadata": {
        "id": "iTwpaTRKCpcq"
      },
      "execution_count": 3,
      "outputs": []
    },
    {
      "cell_type": "markdown",
      "source": [
        "# Function to preprocess and load dataset"
      ],
      "metadata": {
        "id": "xwPsAnT8Cuvh"
      }
    },
    {
      "cell_type": "code",
      "source": [
        "def preprocess_data(labels, data_path):\n",
        "    \"\"\"Load and preprocess dataset images.\"\"\"\n",
        "    data = []\n",
        "    for label in labels:\n",
        "        label_path = os.path.join(data_path, label)\n",
        "        label_index = labels.index(label)\n",
        "        for img_name in tqdm(os.listdir(label_path)):\n",
        "            img_path = os.path.join(label_path, img_name)\n",
        "            img = cv2.imread(img_path, cv2.IMREAD_GRAYSCALE)\n",
        "            resized_img = cv2.resize(img, (32, 32))\n",
        "            data.append([resized_img, label_index])\n",
        "    random.shuffle(data)\n",
        "    return data"
      ],
      "metadata": {
        "id": "8Nm1OvpiC1A0"
      },
      "execution_count": 4,
      "outputs": []
    },
    {
      "cell_type": "markdown",
      "source": [
        "# Function to calculate Euclidean distance\n"
      ],
      "metadata": {
        "id": "6O1zWcbSC6Mg"
      }
    },
    {
      "cell_type": "code",
      "source": [
        "def euclidean_distance(img1, img2):\n",
        "    \"\"\"Compute Euclidean distance.\"\"\"\n",
        "    return np.sqrt(np.sum((img1 - img2) ** 2))\n",
        "\n",
        "# k-NN implementation\n",
        "def knn_classifier(test_data, train_data, k_neighbors=5):\n",
        "    \"\"\"Classify using k-NN and return accuracy.\"\"\"\n",
        "    correct = 0\n",
        "    for test_img, test_label in tqdm(test_data):\n",
        "        distances = []\n",
        "        for train_img, train_label in train_data:\n",
        "            dist = euclidean_distance(test_img, train_img)\n",
        "            distances.append((dist, train_label))\n",
        "        distances.sort(key=lambda x: x[0])\n",
        "        k_nearest_labels = [label for _, label in distances[:k_neighbors]]\n",
        "        predicted_label = max(set(k_nearest_labels), key=k_nearest_labels.count)\n",
        "        if predicted_label == test_label:\n",
        "            correct += 1\n",
        "    return correct / len(test_data)"
      ],
      "metadata": {
        "id": "IWvO7f-qC840"
      },
      "execution_count": 5,
      "outputs": []
    },
    {
      "cell_type": "markdown",
      "source": [
        "# 5-Fold Cross Validation"
      ],
      "metadata": {
        "id": "eA0zGtt1DBYf"
      }
    },
    {
      "cell_type": "code",
      "source": [
        "def cross_validate(data, folds=5, k_neighbors=3):\n",
        "    \"\"\"Perform cross-validation and return fold accuracies.\"\"\"\n",
        "    fold_size = len(data) // folds\n",
        "    accuracies = []\n",
        "    for i in range(folds):\n",
        "        validation_data = data[i * fold_size:(i + 1) * fold_size]\n",
        "        training_data = data[:i * fold_size] + data[(i + 1) * fold_size:]\n",
        "        accuracy = knn_classifier(validation_data, training_data, k_neighbors=k_neighbors)\n",
        "        accuracies.append(accuracy)\n",
        "    return accuracies"
      ],
      "metadata": {
        "id": "yRAdcfFgDDiO"
      },
      "execution_count": 6,
      "outputs": []
    },
    {
      "cell_type": "markdown",
      "source": [
        "# Main Program"
      ],
      "metadata": {
        "id": "sfoHQ-KEDHQB"
      }
    },
    {
      "cell_type": "code",
      "source": [
        "labels = fetch_labels(DATA_DIR)\n",
        "dataset = preprocess_data(labels, DATA_DIR)\n",
        "\n",
        "# Test different K values\n",
        "k_values = list(range(1, 31))\n",
        "results = {}\n",
        "\n",
        "for k in k_values:\n",
        "    print(f\"Testing K={k}\")\n",
        "    fold_accuracies = cross_validate(dataset, folds=5, k_neighbors=k)\n",
        "    results[k] = fold_accuracies"
      ],
      "metadata": {
        "colab": {
          "base_uri": "https://localhost:8080/"
        },
        "id": "w--PgWDpDJMj",
        "outputId": "17d461e3-7a02-4cc7-f4c7-a67a1b47cb2a"
      },
      "execution_count": 7,
      "outputs": [
        {
          "output_type": "stream",
          "name": "stderr",
          "text": [
            "100%|██████████| 32/32 [00:21<00:00,  1.49it/s]\n",
            "100%|██████████| 39/39 [00:20<00:00,  1.91it/s]\n",
            "100%|██████████| 38/38 [00:20<00:00,  1.81it/s]\n",
            "100%|██████████| 31/31 [00:17<00:00,  1.73it/s]\n",
            "100%|██████████| 30/30 [00:18<00:00,  1.67it/s]\n"
          ]
        },
        {
          "output_type": "stream",
          "name": "stdout",
          "text": [
            "Testing K=1\n"
          ]
        },
        {
          "output_type": "stream",
          "name": "stderr",
          "text": [
            "100%|██████████| 34/34 [00:00<00:00, 918.19it/s]\n",
            "100%|██████████| 34/34 [00:00<00:00, 1087.27it/s]\n",
            "100%|██████████| 34/34 [00:00<00:00, 1013.29it/s]\n",
            "100%|██████████| 34/34 [00:00<00:00, 1078.32it/s]\n",
            "100%|██████████| 34/34 [00:00<00:00, 1063.95it/s]\n"
          ]
        },
        {
          "output_type": "stream",
          "name": "stdout",
          "text": [
            "Testing K=2\n"
          ]
        },
        {
          "output_type": "stream",
          "name": "stderr",
          "text": [
            "100%|██████████| 34/34 [00:00<00:00, 1059.30it/s]\n",
            "100%|██████████| 34/34 [00:00<00:00, 930.64it/s]\n",
            "100%|██████████| 34/34 [00:00<00:00, 975.37it/s]\n",
            "100%|██████████| 34/34 [00:00<00:00, 1041.21it/s]\n",
            "100%|██████████| 34/34 [00:00<00:00, 1064.59it/s]\n"
          ]
        },
        {
          "output_type": "stream",
          "name": "stdout",
          "text": [
            "Testing K=3\n"
          ]
        },
        {
          "output_type": "stream",
          "name": "stderr",
          "text": [
            "100%|██████████| 34/34 [00:00<00:00, 967.10it/s]\n",
            "100%|██████████| 34/34 [00:00<00:00, 948.16it/s]\n",
            "100%|██████████| 34/34 [00:00<00:00, 1000.09it/s]\n",
            "100%|██████████| 34/34 [00:00<00:00, 1062.02it/s]\n",
            "100%|██████████| 34/34 [00:00<00:00, 919.37it/s]\n"
          ]
        },
        {
          "output_type": "stream",
          "name": "stdout",
          "text": [
            "Testing K=4\n"
          ]
        },
        {
          "output_type": "stream",
          "name": "stderr",
          "text": [
            "100%|██████████| 34/34 [00:00<00:00, 976.92it/s]\n",
            "100%|██████████| 34/34 [00:00<00:00, 802.39it/s]\n",
            "100%|██████████| 34/34 [00:00<00:00, 793.26it/s]\n",
            "100%|██████████| 34/34 [00:00<00:00, 780.45it/s]\n",
            "100%|██████████| 34/34 [00:00<00:00, 795.73it/s]\n"
          ]
        },
        {
          "output_type": "stream",
          "name": "stdout",
          "text": [
            "Testing K=5\n"
          ]
        },
        {
          "output_type": "stream",
          "name": "stderr",
          "text": [
            "100%|██████████| 34/34 [00:00<00:00, 797.84it/s]\n",
            "100%|██████████| 34/34 [00:00<00:00, 828.15it/s]\n",
            "100%|██████████| 34/34 [00:00<00:00, 608.89it/s]\n",
            "100%|██████████| 34/34 [00:00<00:00, 907.30it/s]\n",
            "100%|██████████| 34/34 [00:00<00:00, 1092.70it/s]\n"
          ]
        },
        {
          "output_type": "stream",
          "name": "stdout",
          "text": [
            "Testing K=6\n"
          ]
        },
        {
          "output_type": "stream",
          "name": "stderr",
          "text": [
            "100%|██████████| 34/34 [00:00<00:00, 910.79it/s]\n",
            "100%|██████████| 34/34 [00:00<00:00, 1003.11it/s]\n",
            "100%|██████████| 34/34 [00:00<00:00, 941.18it/s]\n",
            "100%|██████████| 34/34 [00:00<00:00, 1011.75it/s]\n",
            "100%|██████████| 34/34 [00:00<00:00, 1058.96it/s]\n"
          ]
        },
        {
          "output_type": "stream",
          "name": "stdout",
          "text": [
            "Testing K=7\n"
          ]
        },
        {
          "output_type": "stream",
          "name": "stderr",
          "text": [
            "100%|██████████| 34/34 [00:00<00:00, 1042.83it/s]\n",
            "100%|██████████| 34/34 [00:00<00:00, 1096.26it/s]\n",
            "100%|██████████| 34/34 [00:00<00:00, 1056.40it/s]\n",
            "100%|██████████| 34/34 [00:00<00:00, 1097.99it/s]\n",
            "100%|██████████| 34/34 [00:00<00:00, 1061.94it/s]\n"
          ]
        },
        {
          "output_type": "stream",
          "name": "stdout",
          "text": [
            "Testing K=8\n"
          ]
        },
        {
          "output_type": "stream",
          "name": "stderr",
          "text": [
            "100%|██████████| 34/34 [00:00<00:00, 1010.00it/s]\n",
            "100%|██████████| 34/34 [00:00<00:00, 1024.03it/s]\n",
            "100%|██████████| 34/34 [00:00<00:00, 1018.81it/s]\n",
            "100%|██████████| 34/34 [00:00<00:00, 959.15it/s]\n",
            "100%|██████████| 34/34 [00:00<00:00, 947.44it/s]\n"
          ]
        },
        {
          "output_type": "stream",
          "name": "stdout",
          "text": [
            "Testing K=9\n"
          ]
        },
        {
          "output_type": "stream",
          "name": "stderr",
          "text": [
            "100%|██████████| 34/34 [00:00<00:00, 710.69it/s]\n",
            "100%|██████████| 34/34 [00:00<00:00, 818.03it/s]\n",
            "100%|██████████| 34/34 [00:00<00:00, 756.82it/s]\n",
            "100%|██████████| 34/34 [00:00<00:00, 794.95it/s]\n",
            "100%|██████████| 34/34 [00:00<00:00, 786.36it/s]\n"
          ]
        },
        {
          "output_type": "stream",
          "name": "stdout",
          "text": [
            "Testing K=10\n"
          ]
        },
        {
          "output_type": "stream",
          "name": "stderr",
          "text": [
            "100%|██████████| 34/34 [00:00<00:00, 777.00it/s]\n",
            "100%|██████████| 34/34 [00:00<00:00, 625.07it/s]\n",
            "100%|██████████| 34/34 [00:00<00:00, 1067.58it/s]\n",
            "100%|██████████| 34/34 [00:00<00:00, 943.06it/s]\n",
            "100%|██████████| 34/34 [00:00<00:00, 1029.78it/s]\n"
          ]
        },
        {
          "output_type": "stream",
          "name": "stdout",
          "text": [
            "Testing K=11\n"
          ]
        },
        {
          "output_type": "stream",
          "name": "stderr",
          "text": [
            "100%|██████████| 34/34 [00:00<00:00, 998.20it/s]\n",
            "100%|██████████| 34/34 [00:00<00:00, 1016.41it/s]\n",
            "100%|██████████| 34/34 [00:00<00:00, 981.31it/s]\n",
            "100%|██████████| 34/34 [00:00<00:00, 1038.05it/s]\n",
            "100%|██████████| 34/34 [00:00<00:00, 1039.46it/s]\n"
          ]
        },
        {
          "output_type": "stream",
          "name": "stdout",
          "text": [
            "Testing K=12\n"
          ]
        },
        {
          "output_type": "stream",
          "name": "stderr",
          "text": [
            "100%|██████████| 34/34 [00:00<00:00, 1034.35it/s]\n",
            "100%|██████████| 34/34 [00:00<00:00, 1027.36it/s]\n",
            "100%|██████████| 34/34 [00:00<00:00, 1032.54it/s]\n",
            "100%|██████████| 34/34 [00:00<00:00, 1039.98it/s]\n",
            "100%|██████████| 34/34 [00:00<00:00, 1003.84it/s]\n"
          ]
        },
        {
          "output_type": "stream",
          "name": "stdout",
          "text": [
            "Testing K=13\n"
          ]
        },
        {
          "output_type": "stream",
          "name": "stderr",
          "text": [
            "100%|██████████| 34/34 [00:00<00:00, 991.22it/s]\n",
            "100%|██████████| 34/34 [00:00<00:00, 1064.18it/s]\n",
            "100%|██████████| 34/34 [00:00<00:00, 1021.26it/s]\n",
            "100%|██████████| 34/34 [00:00<00:00, 834.61it/s]\n",
            "100%|██████████| 34/34 [00:00<00:00, 764.83it/s]\n"
          ]
        },
        {
          "output_type": "stream",
          "name": "stdout",
          "text": [
            "Testing K=14\n"
          ]
        },
        {
          "output_type": "stream",
          "name": "stderr",
          "text": [
            "100%|██████████| 34/34 [00:00<00:00, 776.69it/s]\n",
            "100%|██████████| 34/34 [00:00<00:00, 778.85it/s]\n",
            "100%|██████████| 34/34 [00:00<00:00, 788.67it/s]\n",
            "100%|██████████| 34/34 [00:00<00:00, 766.82it/s]\n",
            "100%|██████████| 34/34 [00:00<00:00, 886.06it/s]\n"
          ]
        },
        {
          "output_type": "stream",
          "name": "stdout",
          "text": [
            "Testing K=15\n"
          ]
        },
        {
          "output_type": "stream",
          "name": "stderr",
          "text": [
            "100%|██████████| 34/34 [00:00<00:00, 708.05it/s]\n",
            "100%|██████████| 34/34 [00:00<00:00, 1051.06it/s]\n",
            "100%|██████████| 34/34 [00:00<00:00, 1050.89it/s]\n",
            "100%|██████████| 34/34 [00:00<00:00, 1062.05it/s]\n",
            "100%|██████████| 34/34 [00:00<00:00, 1059.57it/s]\n"
          ]
        },
        {
          "output_type": "stream",
          "name": "stdout",
          "text": [
            "Testing K=16\n"
          ]
        },
        {
          "output_type": "stream",
          "name": "stderr",
          "text": [
            "100%|██████████| 34/34 [00:00<00:00, 1053.03it/s]\n",
            "100%|██████████| 34/34 [00:00<00:00, 1041.78it/s]\n",
            "100%|██████████| 34/34 [00:00<00:00, 1005.44it/s]\n",
            "100%|██████████| 34/34 [00:00<00:00, 916.85it/s]\n",
            "100%|██████████| 34/34 [00:00<00:00, 1063.73it/s]\n"
          ]
        },
        {
          "output_type": "stream",
          "name": "stdout",
          "text": [
            "Testing K=17\n"
          ]
        },
        {
          "output_type": "stream",
          "name": "stderr",
          "text": [
            "100%|██████████| 34/34 [00:00<00:00, 1007.63it/s]\n",
            "100%|██████████| 34/34 [00:00<00:00, 1023.49it/s]\n",
            "100%|██████████| 34/34 [00:00<00:00, 950.82it/s]\n",
            "100%|██████████| 34/34 [00:00<00:00, 1038.41it/s]\n",
            "100%|██████████| 34/34 [00:00<00:00, 1071.87it/s]\n"
          ]
        },
        {
          "output_type": "stream",
          "name": "stdout",
          "text": [
            "Testing K=18\n"
          ]
        },
        {
          "output_type": "stream",
          "name": "stderr",
          "text": [
            "100%|██████████| 34/34 [00:00<00:00, 1053.14it/s]\n",
            "100%|██████████| 34/34 [00:00<00:00, 995.26it/s]\n",
            "100%|██████████| 34/34 [00:00<00:00, 790.24it/s]\n",
            "100%|██████████| 34/34 [00:00<00:00, 764.42it/s]\n",
            "100%|██████████| 34/34 [00:00<00:00, 767.60it/s]\n"
          ]
        },
        {
          "output_type": "stream",
          "name": "stdout",
          "text": [
            "Testing K=19\n"
          ]
        },
        {
          "output_type": "stream",
          "name": "stderr",
          "text": [
            "100%|██████████| 34/34 [00:00<00:00, 812.58it/s]\n",
            "100%|██████████| 34/34 [00:00<00:00, 791.47it/s]\n",
            "100%|██████████| 34/34 [00:00<00:00, 797.00it/s]\n",
            "100%|██████████| 34/34 [00:00<00:00, 783.13it/s]\n",
            "100%|██████████| 34/34 [00:00<00:00, 698.12it/s]\n"
          ]
        },
        {
          "output_type": "stream",
          "name": "stdout",
          "text": [
            "Testing K=20\n"
          ]
        },
        {
          "output_type": "stream",
          "name": "stderr",
          "text": [
            "100%|██████████| 34/34 [00:00<00:00, 1027.06it/s]\n",
            "100%|██████████| 34/34 [00:00<00:00, 1081.44it/s]\n",
            "100%|██████████| 34/34 [00:00<00:00, 1044.52it/s]\n",
            "100%|██████████| 34/34 [00:00<00:00, 922.92it/s]\n",
            "100%|██████████| 34/34 [00:00<00:00, 1022.46it/s]\n"
          ]
        },
        {
          "output_type": "stream",
          "name": "stdout",
          "text": [
            "Testing K=21\n"
          ]
        },
        {
          "output_type": "stream",
          "name": "stderr",
          "text": [
            "100%|██████████| 34/34 [00:00<00:00, 1073.03it/s]\n",
            "100%|██████████| 34/34 [00:00<00:00, 1036.02it/s]\n",
            "100%|██████████| 34/34 [00:00<00:00, 1062.77it/s]\n",
            "100%|██████████| 34/34 [00:00<00:00, 1096.74it/s]\n",
            "100%|██████████| 34/34 [00:00<00:00, 980.23it/s]\n"
          ]
        },
        {
          "output_type": "stream",
          "name": "stdout",
          "text": [
            "Testing K=22\n"
          ]
        },
        {
          "output_type": "stream",
          "name": "stderr",
          "text": [
            "100%|██████████| 34/34 [00:00<00:00, 949.08it/s]\n",
            "100%|██████████| 34/34 [00:00<00:00, 998.15it/s]\n",
            "100%|██████████| 34/34 [00:00<00:00, 950.59it/s]\n",
            "100%|██████████| 34/34 [00:00<00:00, 1087.90it/s]\n",
            "100%|██████████| 34/34 [00:00<00:00, 1029.83it/s]\n"
          ]
        },
        {
          "output_type": "stream",
          "name": "stdout",
          "text": [
            "Testing K=23\n"
          ]
        },
        {
          "output_type": "stream",
          "name": "stderr",
          "text": [
            "100%|██████████| 34/34 [00:00<00:00, 907.73it/s]\n",
            "100%|██████████| 34/34 [00:00<00:00, 783.47it/s]\n",
            "100%|██████████| 34/34 [00:00<00:00, 768.27it/s]\n",
            "100%|██████████| 34/34 [00:00<00:00, 743.29it/s]\n",
            "100%|██████████| 34/34 [00:00<00:00, 827.91it/s]\n"
          ]
        },
        {
          "output_type": "stream",
          "name": "stdout",
          "text": [
            "Testing K=24\n"
          ]
        },
        {
          "output_type": "stream",
          "name": "stderr",
          "text": [
            "100%|██████████| 34/34 [00:00<00:00, 807.44it/s]\n",
            "100%|██████████| 34/34 [00:00<00:00, 866.88it/s]\n",
            "100%|██████████| 34/34 [00:00<00:00, 1054.17it/s]\n",
            "100%|██████████| 34/34 [00:00<00:00, 1011.33it/s]\n",
            "100%|██████████| 34/34 [00:00<00:00, 739.02it/s]\n"
          ]
        },
        {
          "output_type": "stream",
          "name": "stdout",
          "text": [
            "Testing K=25\n"
          ]
        },
        {
          "output_type": "stream",
          "name": "stderr",
          "text": [
            "100%|██████████| 34/34 [00:00<00:00, 1009.90it/s]\n",
            "100%|██████████| 34/34 [00:00<00:00, 1032.68it/s]\n",
            "100%|██████████| 34/34 [00:00<00:00, 1066.89it/s]\n",
            "100%|██████████| 34/34 [00:00<00:00, 1055.94it/s]\n",
            "100%|██████████| 34/34 [00:00<00:00, 1074.69it/s]\n"
          ]
        },
        {
          "output_type": "stream",
          "name": "stdout",
          "text": [
            "Testing K=26\n"
          ]
        },
        {
          "output_type": "stream",
          "name": "stderr",
          "text": [
            "100%|██████████| 34/34 [00:00<00:00, 1067.57it/s]\n",
            "100%|██████████| 34/34 [00:00<00:00, 1036.50it/s]\n",
            "100%|██████████| 34/34 [00:00<00:00, 1010.10it/s]\n",
            "100%|██████████| 34/34 [00:00<00:00, 1064.23it/s]\n",
            "100%|██████████| 34/34 [00:00<00:00, 960.24it/s]\n"
          ]
        },
        {
          "output_type": "stream",
          "name": "stdout",
          "text": [
            "Testing K=27\n"
          ]
        },
        {
          "output_type": "stream",
          "name": "stderr",
          "text": [
            "100%|██████████| 34/34 [00:00<00:00, 918.98it/s]\n",
            "100%|██████████| 34/34 [00:00<00:00, 971.70it/s]\n",
            "100%|██████████| 34/34 [00:00<00:00, 1053.64it/s]\n",
            "100%|██████████| 34/34 [00:00<00:00, 971.37it/s]\n",
            "100%|██████████| 34/34 [00:00<00:00, 781.70it/s]\n"
          ]
        },
        {
          "output_type": "stream",
          "name": "stdout",
          "text": [
            "Testing K=28\n"
          ]
        },
        {
          "output_type": "stream",
          "name": "stderr",
          "text": [
            "100%|██████████| 34/34 [00:00<00:00, 727.94it/s]\n",
            "100%|██████████| 34/34 [00:00<00:00, 745.62it/s]\n",
            "100%|██████████| 34/34 [00:00<00:00, 742.97it/s]\n",
            "100%|██████████| 34/34 [00:00<00:00, 811.90it/s]\n",
            "100%|██████████| 34/34 [00:00<00:00, 800.74it/s]\n"
          ]
        },
        {
          "output_type": "stream",
          "name": "stdout",
          "text": [
            "Testing K=29\n"
          ]
        },
        {
          "output_type": "stream",
          "name": "stderr",
          "text": [
            "100%|██████████| 34/34 [00:00<00:00, 811.90it/s]\n",
            "100%|██████████| 34/34 [00:00<00:00, 865.48it/s]\n",
            "100%|██████████| 34/34 [00:00<00:00, 984.39it/s]\n",
            "100%|██████████| 34/34 [00:00<00:00, 776.54it/s]\n",
            "100%|██████████| 34/34 [00:00<00:00, 1031.54it/s]\n"
          ]
        },
        {
          "output_type": "stream",
          "name": "stdout",
          "text": [
            "Testing K=30\n"
          ]
        },
        {
          "output_type": "stream",
          "name": "stderr",
          "text": [
            "100%|██████████| 34/34 [00:00<00:00, 978.92it/s]\n",
            "100%|██████████| 34/34 [00:00<00:00, 1032.23it/s]\n",
            "100%|██████████| 34/34 [00:00<00:00, 1064.83it/s]\n",
            "100%|██████████| 34/34 [00:00<00:00, 1042.65it/s]\n",
            "100%|██████████| 34/34 [00:00<00:00, 1063.39it/s]\n"
          ]
        }
      ]
    },
    {
      "cell_type": "markdown",
      "source": [
        "# Calculate average accuracies"
      ],
      "metadata": {
        "id": "GVPpwvr5Dyvm"
      }
    },
    {
      "cell_type": "code",
      "source": [
        "average_accuracies = []\n",
        "for k, accs in results.items():\n",
        "    average_accuracies.append(np.mean(accs))"
      ],
      "metadata": {
        "id": "CWulG_9XD1I4"
      },
      "execution_count": 8,
      "outputs": []
    },
    {
      "cell_type": "markdown",
      "source": [
        "# Plot Results"
      ],
      "metadata": {
        "id": "9F2J0tGzD5LD"
      }
    },
    {
      "cell_type": "code",
      "source": [
        "# Plot Results\n",
        "plt.figure(figsize=(12, 8))\n",
        "plt.title(\"5-Fold Cross-Validation Accuracy for k-NN\", fontsize=16)\n",
        "plt.xlabel(\"K (Number of Neighbors)\", fontsize=14)\n",
        "plt.ylabel(\"Cross-Validation Accuracy\", fontsize=14)\n",
        "plt.grid(True, linestyle=\"--\", alpha=0.6)\n",
        "\n",
        "# Colors for plotting\n",
        "line_color = 'darkblue'\n",
        "scatter_color = 'lime'\n",
        "\n",
        "# Vertical line plot for each k-value\n",
        "for k, accs in results.items():\n",
        "    for acc in accs:\n",
        "        plt.plot([k, k], [0, acc], color=line_color, alpha=0.6)  # Vertical lines\n",
        "    plt.scatter([k] * len(accs), accs, color=scatter_color, label=f\"K={k}\" if k == 1 else \"\", alpha=0.8)\n",
        "\n",
        "# Line plot for average accuracies\n",
        "plt.plot(k_values, average_accuracies, marker='o', color='red', label=\"Average Accuracy (Centroids)\", linestyle='-')\n",
        "\n",
        "# Show Plot\n",
        "plt.legend(fontsize=12, loc=\"lower right\")\n",
        "plt.show()\n",
        "\n",
        "# Print Average Accuracies\n",
        "for k, avg in zip(k_values, average_accuracies):\n",
        "    print(f\"K={k}: Average Accuracy = {avg * 100:.2f}%\")"
      ],
      "metadata": {
        "colab": {
          "base_uri": "https://localhost:8080/",
          "height": 1000
        },
        "id": "6vaP7vmZFp5r",
        "outputId": "44b28b4c-bec6-414c-cd9c-741a0c204e1f"
      },
      "execution_count": 15,
      "outputs": [
        {
          "output_type": "display_data",
          "data": {
            "text/plain": [
              "<Figure size 1200x800 with 1 Axes>"
            ],
            "image/png": "[encoded data removed]"
          },
          "metadata": {}
        },
        {
          "output_type": "stream",
          "name": "stdout",
          "text": [
            "K=1: Average Accuracy = 24.71%\n",
            "K=2: Average Accuracy = 25.88%\n",
            "K=3: Average Accuracy = 25.88%\n",
            "K=4: Average Accuracy = 24.71%\n",
            "K=5: Average Accuracy = 26.47%\n",
            "K=6: Average Accuracy = 22.94%\n",
            "K=7: Average Accuracy = 22.94%\n",
            "K=8: Average Accuracy = 22.94%\n",
            "K=9: Average Accuracy = 21.18%\n",
            "K=10: Average Accuracy = 20.00%\n",
            "K=11: Average Accuracy = 21.18%\n",
            "K=12: Average Accuracy = 21.76%\n",
            "K=13: Average Accuracy = 22.35%\n",
            "K=14: Average Accuracy = 19.41%\n",
            "K=15: Average Accuracy = 17.06%\n",
            "K=16: Average Accuracy = 20.59%\n",
            "K=17: Average Accuracy = 19.41%\n",
            "K=18: Average Accuracy = 19.41%\n",
            "K=19: Average Accuracy = 18.82%\n",
            "K=20: Average Accuracy = 19.41%\n",
            "K=21: Average Accuracy = 17.65%\n",
            "K=22: Average Accuracy = 20.00%\n",
            "K=23: Average Accuracy = 17.65%\n",
            "K=24: Average Accuracy = 14.71%\n",
            "K=25: Average Accuracy = 17.06%\n",
            "K=26: Average Accuracy = 17.06%\n",
            "K=27: Average Accuracy = 18.24%\n",
            "K=28: Average Accuracy = 17.65%\n",
            "K=29: Average Accuracy = 18.24%\n",
            "K=30: Average Accuracy = 18.24%\n"
          ]
        }
      ]
    },
    {
      "cell_type": "code",
      "source": [],
      "metadata": {
        "id": "gHnmYKI0FrnX"
      },
      "execution_count": null,
      "outputs": []
    }
  ]
}